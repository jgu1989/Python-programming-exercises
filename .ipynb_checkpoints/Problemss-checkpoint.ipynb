{
 "cells": [
  {
   "cell_type": "code",
   "execution_count": 2,
   "metadata": {},
   "outputs": [],
   "source": [
    "def number():\n",
    "    \"\"\"\n",
    "    Question 1\n",
    "    Level 1\n",
    "\n",
    "    Question:\n",
    "    Write a program which will find all such numbers which are divisible by 7 but are not a multiple of 5,\n",
    "    between 2000 and 3200 (both included).\n",
    "    The numbers obtained should be printed in a comma-separated sequence on a single line.\n",
    "\n",
    "    \"\"\"\n",
    "    l = []\n",
    "    for i in range(2000,3201):\n",
    "        if i%7==0 and i%5!=0:\n",
    "            l.append(i)\n",
    "    return l"
   ]
  },
  {
   "cell_type": "code",
   "execution_count": 5,
   "metadata": {},
   "outputs": [
    {
     "name": "stdout",
     "output_type": "stream",
     "text": [
      "40320\n"
     ]
    }
   ],
   "source": [
    "def fac(n):\n",
    "    \"\"\"\n",
    "    Question 2\n",
    "    Level 1\n",
    "\n",
    "    Question:\n",
    "    Write a program which can compute the factorial of a given numbers.\n",
    "    The results should be printed in a comma-separated sequence on a single line.\n",
    "    Suppose the following input is supplied to the program:\n",
    "    8\n",
    "    Then, the output should be:\n",
    "    40320\n",
    "    \"\"\"\n",
    "    if n==1: return 1\n",
    "    else: return n*fac(n-1)\n",
    "\n",
    "print(fac(8))"
   ]
  },
  {
   "cell_type": "code",
   "execution_count": 7,
   "metadata": {},
   "outputs": [
    {
     "data": {
      "text/plain": [
       "{1: 1, 2: 4, 3: 9, 4: 16, 5: 25, 6: 36, 7: 49, 8: 64}"
      ]
     },
     "execution_count": 7,
     "metadata": {},
     "output_type": "execute_result"
    }
   ],
   "source": [
    "def square(n):\n",
    "    \"\"\"\n",
    "    Question 3\n",
    "    Level 1\n",
    "\n",
    "    Question:\n",
    "    With a given integral number n, write a program to generate a dictionary that contains (i, i*i) \n",
    "    such that is an integral number between 1 and n (both included). and then the program should print the dictionary.\n",
    "    Suppose the following input is supplied to the program:\n",
    "    8\n",
    "    Then, the output should be:\n",
    "    {1: 1, 2: 4, 3: 9, 4: 16, 5: 25, 6: 36, 7: 49, 8: 64}\n",
    "\n",
    "    \"\"\"\n",
    "    dict = {}\n",
    "    for i in range(1,n+1):\n",
    "        dict[i]=i*i\n",
    "    return dict\n",
    "square(8)"
   ]
  },
  {
   "cell_type": "code",
   "execution_count": 22,
   "metadata": {},
   "outputs": [
    {
     "name": "stdout",
     "output_type": "stream",
     "text": [
      "2,3,5\n"
     ]
    },
    {
     "data": {
      "text/plain": [
       "(['2', '3', '5'], ('2', '3', '5'))"
      ]
     },
     "execution_count": 22,
     "metadata": {},
     "output_type": "execute_result"
    }
   ],
   "source": [
    "def list_and_tuple():\n",
    "    \"\"\"\n",
    "    Question 4\n",
    "    Level 1\n",
    "\n",
    "    Question:\n",
    "    Write a program which accepts a sequence of comma-separated numbers from console and generate a list and a tuple \n",
    "    which contains every number.\n",
    "    Suppose the following input is supplied to the program:\n",
    "    34,67,55,33,12,98\n",
    "    Then, the output should be:\n",
    "    ['34', '67', '55', '33', '12', '98']\n",
    "    ('34', '67', '55', '33', '12', '98')\n",
    "    \"\"\"\n",
    "    num = input()\n",
    "    num=num.split(sep=',')\n",
    "    l = list(num)\n",
    "    t = tuple(l)\n",
    "    return l,t\n",
    "\n",
    "list_and_tuple()"
   ]
  },
  {
   "cell_type": "code",
   "execution_count": null,
   "metadata": {},
   "outputs": [],
   "source": []
  }
 ],
 "metadata": {
  "kernelspec": {
   "display_name": "Python 3",
   "language": "python",
   "name": "python3"
  },
  "language_info": {
   "codemirror_mode": {
    "name": "ipython",
    "version": 3
   },
   "file_extension": ".py",
   "mimetype": "text/x-python",
   "name": "python",
   "nbconvert_exporter": "python",
   "pygments_lexer": "ipython3",
   "version": "3.7.2"
  }
 },
 "nbformat": 4,
 "nbformat_minor": 2
}
