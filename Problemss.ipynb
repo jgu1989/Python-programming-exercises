{
 "cells": [
  {
   "cell_type": "code",
   "execution_count": 2,
   "metadata": {},
   "outputs": [],
   "source": [
    "def number():\n",
    "    \"\"\"\n",
    "    Question 1\n",
    "    Level 1\n",
    "\n",
    "    Question:\n",
    "    Write a program which will find all such numbers which are divisible by 7 but are not a multiple of 5,\n",
    "    between 2000 and 3200 (both included).\n",
    "    The numbers obtained should be printed in a comma-separated sequence on a single line.\n",
    "\n",
    "    \"\"\"\n",
    "    l = []\n",
    "    for i in range(2000,3201):\n",
    "        if i%7==0 and i%5!=0:\n",
    "            l.append(i)\n",
    "    return l"
   ]
  },
  {
   "cell_type": "code",
   "execution_count": 5,
   "metadata": {},
   "outputs": [
    {
     "name": "stdout",
     "output_type": "stream",
     "text": [
      "40320\n"
     ]
    }
   ],
   "source": [
    "def fac(n):\n",
    "    \"\"\"\n",
    "    Question 2\n",
    "    Level 1\n",
    "\n",
    "    Question:\n",
    "    Write a program which can compute the factorial of a given numbers.\n",
    "    The results should be printed in a comma-separated sequence on a single line.\n",
    "    Suppose the following input is supplied to the program:\n",
    "    8\n",
    "    Then, the output should be:\n",
    "    40320\n",
    "    \"\"\"\n",
    "    if n==1: return 1\n",
    "    else: return n*fac(n-1)\n",
    "\n",
    "print(fac(8))"
   ]
  },
  {
   "cell_type": "code",
   "execution_count": null,
   "metadata": {},
   "outputs": [],
   "source": []
  }
 ],
 "metadata": {
  "kernelspec": {
   "display_name": "Python 3",
   "language": "python",
   "name": "python3"
  },
  "language_info": {
   "codemirror_mode": {
    "name": "ipython",
    "version": 3
   },
   "file_extension": ".py",
   "mimetype": "text/x-python",
   "name": "python",
   "nbconvert_exporter": "python",
   "pygments_lexer": "ipython3",
   "version": "3.7.2"
  }
 },
 "nbformat": 4,
 "nbformat_minor": 2
}
